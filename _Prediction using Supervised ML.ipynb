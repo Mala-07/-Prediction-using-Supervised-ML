{
 "cells": [
  {
   "cell_type": "markdown",
   "id": "17d1a587",
   "metadata": {},
   "source": [
    "# The Sparks Foundation\n",
    "# #GRIPDEC22  \n",
    "# TASK-1: Prediction using Supervised ML"
   ]
  },
  {
   "cell_type": "markdown",
   "id": "5a4a2439",
   "metadata": {},
   "source": [
    "# Importing libraries"
   ]
  },
  {
   "cell_type": "code",
   "execution_count": 1,
   "id": "5a21059b",
   "metadata": {},
   "outputs": [],
   "source": [
    "import pandas as pd\n",
    "import numpy as np\n",
    "import matplotlib.pyplot as plt\n",
    "import scipy\n",
    "from sklearn.linear_model import LinearRegression \n",
    "import statsmodels.api as sm\n",
    "import seaborn as sns\n",
    "sns.set() "
   ]
  },
  {
   "cell_type": "markdown",
   "id": "19935e56",
   "metadata": {},
   "source": [
    "# Reading data from remote link"
   ]
  },
  {
   "cell_type": "code",
   "execution_count": 2,
   "id": "54463a63",
   "metadata": {},
   "outputs": [
    {
     "name": "stdout",
     "output_type": "stream",
     "text": [
      "Data imported successfully\n"
     ]
    },
    {
     "data": {
      "text/html": [
       "<div>\n",
       "<style scoped>\n",
       "    .dataframe tbody tr th:only-of-type {\n",
       "        vertical-align: middle;\n",
       "    }\n",
       "\n",
       "    .dataframe tbody tr th {\n",
       "        vertical-align: top;\n",
       "    }\n",
       "\n",
       "    .dataframe thead th {\n",
       "        text-align: right;\n",
       "    }\n",
       "</style>\n",
       "<table border=\"1\" class=\"dataframe\">\n",
       "  <thead>\n",
       "    <tr style=\"text-align: right;\">\n",
       "      <th></th>\n",
       "      <th>Hours</th>\n",
       "      <th>Scores</th>\n",
       "    </tr>\n",
       "  </thead>\n",
       "  <tbody>\n",
       "    <tr>\n",
       "      <th>20</th>\n",
       "      <td>2.7</td>\n",
       "      <td>30</td>\n",
       "    </tr>\n",
       "    <tr>\n",
       "      <th>21</th>\n",
       "      <td>4.8</td>\n",
       "      <td>54</td>\n",
       "    </tr>\n",
       "    <tr>\n",
       "      <th>22</th>\n",
       "      <td>3.8</td>\n",
       "      <td>35</td>\n",
       "    </tr>\n",
       "    <tr>\n",
       "      <th>23</th>\n",
       "      <td>6.9</td>\n",
       "      <td>76</td>\n",
       "    </tr>\n",
       "    <tr>\n",
       "      <th>24</th>\n",
       "      <td>7.8</td>\n",
       "      <td>86</td>\n",
       "    </tr>\n",
       "  </tbody>\n",
       "</table>\n",
       "</div>"
      ],
      "text/plain": [
       "    Hours  Scores\n",
       "20    2.7      30\n",
       "21    4.8      54\n",
       "22    3.8      35\n",
       "23    6.9      76\n",
       "24    7.8      86"
      ]
     },
     "execution_count": 2,
     "metadata": {},
     "output_type": "execute_result"
    }
   ],
   "source": [
    "url = \"http://bit.ly/w-data\"\n",
    "ds = pd.read_csv(url)\n",
    "print(\"Data imported successfully\")\n",
    "\n",
    "ds.tail()"
   ]
  },
  {
   "cell_type": "code",
   "execution_count": 3,
   "id": "6efeeeaa",
   "metadata": {},
   "outputs": [
    {
     "data": {
      "text/plain": [
       "(25, 2)"
      ]
     },
     "execution_count": 3,
     "metadata": {},
     "output_type": "execute_result"
    }
   ],
   "source": [
    "ds.shape #The data has 25 rows and 2 columns"
   ]
  },
  {
   "cell_type": "code",
   "execution_count": 4,
   "id": "0bbc477b",
   "metadata": {},
   "outputs": [
    {
     "data": {
      "text/html": [
       "<div>\n",
       "<style scoped>\n",
       "    .dataframe tbody tr th:only-of-type {\n",
       "        vertical-align: middle;\n",
       "    }\n",
       "\n",
       "    .dataframe tbody tr th {\n",
       "        vertical-align: top;\n",
       "    }\n",
       "\n",
       "    .dataframe thead th {\n",
       "        text-align: right;\n",
       "    }\n",
       "</style>\n",
       "<table border=\"1\" class=\"dataframe\">\n",
       "  <thead>\n",
       "    <tr style=\"text-align: right;\">\n",
       "      <th></th>\n",
       "      <th>Hours</th>\n",
       "      <th>Scores</th>\n",
       "    </tr>\n",
       "  </thead>\n",
       "  <tbody>\n",
       "    <tr>\n",
       "      <th>count</th>\n",
       "      <td>25.000000</td>\n",
       "      <td>25.000000</td>\n",
       "    </tr>\n",
       "    <tr>\n",
       "      <th>mean</th>\n",
       "      <td>5.012000</td>\n",
       "      <td>51.480000</td>\n",
       "    </tr>\n",
       "    <tr>\n",
       "      <th>std</th>\n",
       "      <td>2.525094</td>\n",
       "      <td>25.286887</td>\n",
       "    </tr>\n",
       "    <tr>\n",
       "      <th>min</th>\n",
       "      <td>1.100000</td>\n",
       "      <td>17.000000</td>\n",
       "    </tr>\n",
       "    <tr>\n",
       "      <th>25%</th>\n",
       "      <td>2.700000</td>\n",
       "      <td>30.000000</td>\n",
       "    </tr>\n",
       "    <tr>\n",
       "      <th>50%</th>\n",
       "      <td>4.800000</td>\n",
       "      <td>47.000000</td>\n",
       "    </tr>\n",
       "    <tr>\n",
       "      <th>75%</th>\n",
       "      <td>7.400000</td>\n",
       "      <td>75.000000</td>\n",
       "    </tr>\n",
       "    <tr>\n",
       "      <th>max</th>\n",
       "      <td>9.200000</td>\n",
       "      <td>95.000000</td>\n",
       "    </tr>\n",
       "  </tbody>\n",
       "</table>\n",
       "</div>"
      ],
      "text/plain": [
       "           Hours     Scores\n",
       "count  25.000000  25.000000\n",
       "mean    5.012000  51.480000\n",
       "std     2.525094  25.286887\n",
       "min     1.100000  17.000000\n",
       "25%     2.700000  30.000000\n",
       "50%     4.800000  47.000000\n",
       "75%     7.400000  75.000000\n",
       "max     9.200000  95.000000"
      ]
     },
     "execution_count": 4,
     "metadata": {},
     "output_type": "execute_result"
    }
   ],
   "source": [
    "ds.describe() "
   ]
  },
  {
   "cell_type": "code",
   "execution_count": 5,
   "id": "76891927",
   "metadata": {},
   "outputs": [],
   "source": [
    "x1 = ds['Hours']\n",
    "y = ds['Scores']"
   ]
  },
  {
   "cell_type": "markdown",
   "id": "27230301",
   "metadata": {},
   "source": [
    "## Plotting the distribution of scores"
   ]
  },
  {
   "cell_type": "code",
   "execution_count": 6,
   "id": "d7af617a",
   "metadata": {},
   "outputs": [
    {
     "data": {
      "image/png": "[encoded data removed]",
      "text/plain": [
       "<Figure size 432x288 with 1 Axes>"
      ]
     },
     "metadata": {},
     "output_type": "display_data"
    }
   ],
   "source": [
    "plt.scatter(x1,y, color = 'black')\n",
    "yhat = 9.7758*x1 + 2.4837\n",
    "fig = plt.plot(x1, yhat, lw=4, c='blue', label='regression line')\n",
    "plt.title('Hours vs Percentage')  \n",
    "plt.xlabel('Hours Studied')  \n",
    "plt.ylabel('Percentage Score')  \n",
    "plt.show()"
   ]
  },
  {
   "cell_type": "markdown",
   "id": "8f20cf57",
   "metadata": {},
   "source": [
    "### The above plot clearly shows that the relation between the number of hours studied and percentage of score is linear and positive."
   ]
  },
  {
   "cell_type": "markdown",
   "id": "dd207add",
   "metadata": {},
   "source": [
    "# Defining independent and independent variables"
   ]
  },
  {
   "cell_type": "code",
   "execution_count": 7,
   "id": "64d624b2",
   "metadata": {},
   "outputs": [],
   "source": [
    "indep_var = ds.iloc[:, :-1].values  #Hours\n",
    "dep_var = ds.iloc[:, 1].values      #Scores"
   ]
  },
  {
   "cell_type": "markdown",
   "id": "67d94346",
   "metadata": {},
   "source": [
    "# Splitting dataset into training and testing set"
   ]
  },
  {
   "cell_type": "code",
   "execution_count": 9,
   "id": "8f1fa03f",
   "metadata": {},
   "outputs": [],
   "source": [
    "from sklearn.model_selection import train_test_split\n",
    "x_train, x_test, y_train, y_test = train_test_split(indep_var,dep_var, test_size=0.2, random_state = 0)"
   ]
  },
  {
   "cell_type": "markdown",
   "id": "ef26d0e3",
   "metadata": {},
   "source": [
    "# Training the algorithm"
   ]
  },
  {
   "cell_type": "code",
   "execution_count": 10,
   "id": "af9a028f",
   "metadata": {},
   "outputs": [
    {
     "data": {
      "text/plain": [
       "LinearRegression()"
      ]
     },
     "execution_count": 10,
     "metadata": {},
     "output_type": "execute_result"
    }
   ],
   "source": [
    "from sklearn.linear_model import LinearRegression  \n",
    "\n",
    "reg = LinearRegression()  \n",
    "reg.fit(x_train, y_train) \n"
   ]
  },
  {
   "cell_type": "markdown",
   "id": "351a93c3",
   "metadata": {},
   "source": [
    "## Thus size of train set : 20 and size of test set : 5"
   ]
  },
  {
   "cell_type": "code",
   "execution_count": 27,
   "id": "aa5f8a98",
   "metadata": {},
   "outputs": [
    {
     "name": "stdout",
     "output_type": "stream",
     "text": [
      "(20, 1)\n",
      "(20,)\n",
      "(5, 1)\n",
      "(5,)\n"
     ]
    }
   ],
   "source": [
    "print(x_train.shape)\n",
    "print(y_train.shape)\n",
    "print(x_test.shape)\n",
    "print(y_test.shape)"
   ]
  },
  {
   "cell_type": "markdown",
   "id": "bc93544f",
   "metadata": {},
   "source": [
    "## Visualising the training set result"
   ]
  },
  {
   "cell_type": "code",
   "execution_count": 11,
   "id": "ecf1d3da",
   "metadata": {},
   "outputs": [
    {
     "data": {
      "image/png": "[encoded data removed]",
      "text/plain": [
       "<Figure size 432x288 with 1 Axes>"
      ]
     },
     "metadata": {},
     "output_type": "display_data"
    }
   ],
   "source": [
    "plt.scatter(x_train, y_train, color = 'black')\n",
    "plt.plot(x_train, reg.predict(x_train), color = 'blue')\n",
    "plt.title('Hours vs Scores (Training set)')\n",
    "plt.xlabel('Hours studied')\n",
    "plt.ylabel('Percentage Score')\n",
    "plt.show()"
   ]
  },
  {
   "cell_type": "markdown",
   "id": "e96bcde4",
   "metadata": {},
   "source": [
    "## Visualising the test set result"
   ]
  },
  {
   "cell_type": "code",
   "execution_count": 12,
   "id": "5e5d2a1c",
   "metadata": {},
   "outputs": [
    {
     "data": {
      "image/png": "[encoded data removed]",
      "text/plain": [
       "<Figure size 432x288 with 1 Axes>"
      ]
     },
     "metadata": {},
     "output_type": "display_data"
    }
   ],
   "source": [
    "plt.scatter(x_test, y_test, color = 'black')\n",
    "plt.plot(x_train, reg.predict(x_train), color = 'blue')\n",
    "plt.title('Hours vs Scores (Training set)')\n",
    "plt.xlabel('Hours Studied')\n",
    "plt.ylabel('Percentage Score')\n",
    "plt.show()"
   ]
  },
  {
   "cell_type": "markdown",
   "id": "631ff42f",
   "metadata": {},
   "source": [
    "## Testing data - In Hours"
   ]
  },
  {
   "cell_type": "code",
   "execution_count": 13,
   "id": "a3018cb3",
   "metadata": {},
   "outputs": [
    {
     "name": "stdout",
     "output_type": "stream",
     "text": [
      "[[1.5]\n",
      " [3.2]\n",
      " [7.4]\n",
      " [2.5]\n",
      " [5.9]]\n"
     ]
    }
   ],
   "source": [
    "print(x_test)\n",
    "\n",
    "# Predicting the scores\n",
    "y_pred = reg.predict(x_test) "
   ]
  },
  {
   "cell_type": "markdown",
   "id": "74acdf59",
   "metadata": {},
   "source": [
    "## Comparing Actual vs Predicted "
   ]
  },
  {
   "cell_type": "code",
   "execution_count": 14,
   "id": "c6058fac",
   "metadata": {},
   "outputs": [
    {
     "data": {
      "text/html": [
       "<div>\n",
       "<style scoped>\n",
       "    .dataframe tbody tr th:only-of-type {\n",
       "        vertical-align: middle;\n",
       "    }\n",
       "\n",
       "    .dataframe tbody tr th {\n",
       "        vertical-align: top;\n",
       "    }\n",
       "\n",
       "    .dataframe thead th {\n",
       "        text-align: right;\n",
       "    }\n",
       "</style>\n",
       "<table border=\"1\" class=\"dataframe\">\n",
       "  <thead>\n",
       "    <tr style=\"text-align: right;\">\n",
       "      <th></th>\n",
       "      <th>Actual</th>\n",
       "      <th>Predicted</th>\n",
       "    </tr>\n",
       "  </thead>\n",
       "  <tbody>\n",
       "    <tr>\n",
       "      <th>0</th>\n",
       "      <td>20</td>\n",
       "      <td>16.884145</td>\n",
       "    </tr>\n",
       "    <tr>\n",
       "      <th>1</th>\n",
       "      <td>27</td>\n",
       "      <td>33.732261</td>\n",
       "    </tr>\n",
       "    <tr>\n",
       "      <th>2</th>\n",
       "      <td>69</td>\n",
       "      <td>75.357018</td>\n",
       "    </tr>\n",
       "    <tr>\n",
       "      <th>3</th>\n",
       "      <td>30</td>\n",
       "      <td>26.794801</td>\n",
       "    </tr>\n",
       "    <tr>\n",
       "      <th>4</th>\n",
       "      <td>62</td>\n",
       "      <td>60.491033</td>\n",
       "    </tr>\n",
       "  </tbody>\n",
       "</table>\n",
       "</div>"
      ],
      "text/plain": [
       "   Actual  Predicted\n",
       "0      20  16.884145\n",
       "1      27  33.732261\n",
       "2      69  75.357018\n",
       "3      30  26.794801\n",
       "4      62  60.491033"
      ]
     },
     "execution_count": 14,
     "metadata": {},
     "output_type": "execute_result"
    }
   ],
   "source": [
    "df = pd.DataFrame({'Actual': y_test, 'Predicted': y_pred})  \n",
    "df "
   ]
  },
  {
   "cell_type": "markdown",
   "id": "e9f9d379",
   "metadata": {},
   "source": [
    "## r-squared describes the goodness of fit"
   ]
  },
  {
   "cell_type": "code",
   "execution_count": 16,
   "id": "7bd9f210",
   "metadata": {},
   "outputs": [
    {
     "name": "stdout",
     "output_type": "stream",
     "text": [
      "95.15510725211553 %\n"
     ]
    }
   ],
   "source": [
    "from sklearn.metrics import r2_score\n",
    "r2_score = reg.score(x_train,y_train)\n",
    "print(r2_score*100,'%')"
   ]
  },
  {
   "cell_type": "code",
   "execution_count": 17,
   "id": "522cd654",
   "metadata": {},
   "outputs": [
    {
     "name": "stdout",
     "output_type": "stream",
     "text": [
      "94.54906892105356 %\n"
     ]
    }
   ],
   "source": [
    "r2_score = reg.score(x_test,y_test)\n",
    "print(r2_score*100,'%')"
   ]
  },
  {
   "cell_type": "code",
   "execution_count": 31,
   "id": "2e20eae7",
   "metadata": {},
   "outputs": [
    {
     "data": {
      "image/png": "[encoded data removed]",
      "text/plain": [
       "<Figure size 432x288 with 1 Axes>"
      ]
     },
     "metadata": {},
     "output_type": "display_data"
    }
   ],
   "source": [
    "# R SQUARE PLOT\n",
    "plt.scatter(x_test, y_test, color=\"black\")\n",
    "plt.plot(x_test, y_pred, color=\"blue\", linewidth=3)\n",
    "plt.title('SUM OFSQUARES (OBSERVED VS PREDICTED)')\n",
    "plt.xlabel('OBSERVERD R SQUARE')\n",
    "plt.ylabel('PREDICTED R SQUARE')\n",
    "plt.show()"
   ]
  },
  {
   "cell_type": "markdown",
   "id": "42bdf6cc",
   "metadata": {},
   "source": [
    "### The straight line can be seen in the plot, showing how linear regression attempts to draw a straight line that will best minimize the residual sum of squares between the observed responses in the dataset, and the responses predicted by the linear approximation."
   ]
  },
  {
   "cell_type": "markdown",
   "id": "272743f8",
   "metadata": {},
   "source": [
    "## Checking the absolute error"
   ]
  },
  {
   "cell_type": "code",
   "execution_count": 15,
   "id": "4e61b456",
   "metadata": {},
   "outputs": [
    {
     "name": "stdout",
     "output_type": "stream",
     "text": [
      "Mean Absolute Error: 4.183859899002975\n"
     ]
    }
   ],
   "source": [
    "from sklearn import metrics  \n",
    "print('Mean Absolute Error:', metrics.mean_absolute_error(y_test, y_pred)) "
   ]
  },
  {
   "cell_type": "markdown",
   "id": "d1410aad",
   "metadata": {},
   "source": [
    "### Mean Absolute Error - mean of the absolute values of each prediction error on all instances of the test dataset."
   ]
  },
  {
   "cell_type": "markdown",
   "id": "1e98b4d0",
   "metadata": {},
   "source": [
    "# Result"
   ]
  },
  {
   "cell_type": "code",
   "execution_count": 18,
   "id": "00a89db2",
   "metadata": {},
   "outputs": [
    {
     "name": "stdout",
     "output_type": "stream",
     "text": [
      "Average Hours studied is: 5.24\n",
      "Average Percentage of Scores is: 53.95 %\n"
     ]
    }
   ],
   "source": [
    "print(\"Average Hours studied is:\",x_train.mean())\n",
    "print(\"Average Percentage of Scores is:\", y_train.mean(),'%') #trained dataset"
   ]
  },
  {
   "cell_type": "code",
   "execution_count": 32,
   "id": "8b62ef2e",
   "metadata": {},
   "outputs": [
    {
     "name": "stdout",
     "output_type": "stream",
     "text": [
      "Enter no.of hours studied= 9.25\n",
      "Prediction = 93.69173248737538 %\n"
     ]
    }
   ],
   "source": [
    "hrs = float(input(\"Enter no.of hours studied= \"))\n",
    "print(\"Prediction = {}\".format(reg.predict([[hrs]])[0]),'%') #prediction "
   ]
  },
  {
   "cell_type": "markdown",
   "id": "8b109c30",
   "metadata": {},
   "source": [
    "### - Mala Subramanian - "
   ]
  }
 ],
 "metadata": {
  "kernelspec": {
   "display_name": "Python 3 (ipykernel)",
   "language": "python",
   "name": "python3"
  },
  "language_info": {
   "codemirror_mode": {
    "name": "ipython",
    "version": 3
   },
   "file_extension": ".py",
   "mimetype": "text/x-python",
   "name": "python",
   "nbconvert_exporter": "python",
   "pygments_lexer": "ipython3",
   "version": "3.9.12"
  }
 },
 "nbformat": 4,
 "nbformat_minor": 5
}
